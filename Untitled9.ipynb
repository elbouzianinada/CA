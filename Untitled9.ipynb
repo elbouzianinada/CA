{
 "cells": [
  {
   "cell_type": "code",
   "execution_count": 1,
   "id": "69922fd3",
   "metadata": {},
   "outputs": [
    {
     "data": {
      "text/plain": [
       "9.5"
      ]
     },
     "execution_count": 1,
     "metadata": {},
     "output_type": "execute_result"
    }
   ],
   "source": [
    "38/4"
   ]
  },
  {
   "cell_type": "code",
   "execution_count": 2,
   "id": "c3448fec",
   "metadata": {},
   "outputs": [
    {
     "data": {
      "text/plain": [
       "12.666666666666666"
      ]
     },
     "execution_count": 2,
     "metadata": {},
     "output_type": "execute_result"
    }
   ],
   "source": [
    "38/3"
   ]
  },
  {
   "cell_type": "code",
   "execution_count": 3,
   "id": "51456792",
   "metadata": {},
   "outputs": [
    {
     "data": {
      "text/plain": [
       "13.0"
      ]
     },
     "execution_count": 3,
     "metadata": {},
     "output_type": "execute_result"
    }
   ],
   "source": [
    "39/3"
   ]
  },
  {
   "cell_type": "code",
   "execution_count": 4,
   "id": "2e3461a1",
   "metadata": {},
   "outputs": [
    {
     "data": {
      "text/plain": [
       "39"
      ]
     },
     "execution_count": 4,
     "metadata": {},
     "output_type": "execute_result"
    }
   ],
   "source": [
    "13*3"
   ]
  },
  {
   "cell_type": "code",
   "execution_count": 5,
   "id": "3efd6141",
   "metadata": {},
   "outputs": [
    {
     "data": {
      "text/plain": [
       "26"
      ]
     },
     "execution_count": 5,
     "metadata": {},
     "output_type": "execute_result"
    }
   ],
   "source": [
    "13*2"
   ]
  },
  {
   "cell_type": "code",
   "execution_count": 6,
   "id": "44017926",
   "metadata": {},
   "outputs": [
    {
     "data": {
      "text/plain": [
       "12.0"
      ]
     },
     "execution_count": 6,
     "metadata": {},
     "output_type": "execute_result"
    }
   ],
   "source": [
    "36/3\n"
   ]
  },
  {
   "cell_type": "code",
   "execution_count": null,
   "id": "4060dba7",
   "metadata": {},
   "outputs": [],
   "source": []
  }
 ],
 "metadata": {
  "kernelspec": {
   "display_name": "Python 3 (ipykernel)",
   "language": "python",
   "name": "python3"
  },
  "language_info": {
   "codemirror_mode": {
    "name": "ipython",
    "version": 3
   },
   "file_extension": ".py",
   "mimetype": "text/x-python",
   "name": "python",
   "nbconvert_exporter": "python",
   "pygments_lexer": "ipython3",
   "version": "3.11.5"
  }
 },
 "nbformat": 4,
 "nbformat_minor": 5
}
