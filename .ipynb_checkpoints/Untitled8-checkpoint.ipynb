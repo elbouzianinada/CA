{
 "cells": [
  {
   "cell_type": "code",
   "execution_count": 1,
   "id": "b3389a8f",
   "metadata": {},
   "outputs": [],
   "source": [
    "from PIL import Image\n",
    "import numpy as np\n",
    "import random\n",
    "from matplotlib import pyplot as plt\n",
    "from matplotlib import image as mpimg\n",
    "import matplotlib.pyplot as plt"
   ]
  },
  {
   "cell_type": "code",
   "execution_count": 2,
   "id": "3a97ef45",
   "metadata": {},
   "outputs": [],
   "source": [
    "img = Image.open(\"image_capturee.jpg\")\n",
    "img_data = img.getdata()\n",
    "\n",
    "lst=[]\n",
    "for i in img_data:\n",
    "\n",
    "    # lst.append(i[0]*0.299+i[1]*0.587+i[2]*0.114) ### Rec. 609-7 weights\n",
    "    lst.append(i[0]*0.2125+i[1]*0.7174+i[2]*0.0721) ### Rec. 709-6 weights\n",
    "\n",
    "new_img = Image.new(\"L\", img.size)\n",
    "new_img.putdata(lst)\n",
    "\n",
    "new_img.show()\n",
    "new_img.save(\"imagem.png\")"
   ]
  },
  {
   "cell_type": "code",
   "execution_count": 3,
   "id": "b06c9973",
   "metadata": {},
   "outputs": [],
   "source": [
    "img7 = Image.open(\"imagem.png\")"
   ]
  },
  {
   "cell_type": "code",
   "execution_count": 4,
   "id": "490dcb2c",
   "metadata": {},
   "outputs": [
    {
     "name": "stdout",
     "output_type": "stream",
     "text": [
      "[[1 1 1 ... 1 1 1]\n",
      " [1 1 1 ... 1 1 1]\n",
      " [1 1 1 ... 1 1 1]\n",
      " ...\n",
      " [1 1 1 ... 1 1 1]\n",
      " [1 1 1 ... 1 1 1]\n",
      " [1 1 1 ... 1 1 1]]\n"
     ]
    }
   ],
   "source": [
    "img_gray = img7.convert(\"L\")\n",
    "\n",
    "img_array = np.array(img_gray)\n",
    "\n",
    "threshold = 138\n",
    "binary_matrix = (img_array > threshold).astype(np.uint8)\n",
    "print(binary_matrix)\n"
   ]
  },
  {
   "cell_type": "code",
   "execution_count": 5,
   "id": "906af506",
   "metadata": {},
   "outputs": [
    {
     "name": "stdout",
     "output_type": "stream",
     "text": [
      "[[0 0 0 ... 0 0 0]\n",
      " [0 0 0 ... 0 0 0]\n",
      " [0 0 1 ... 1 0 0]\n",
      " ...\n",
      " [0 0 1 ... 1 0 0]\n",
      " [0 0 0 ... 0 0 0]\n",
      " [0 0 0 ... 0 0 0]]\n"
     ]
    }
   ],
   "source": [
    "neighborhood_size = 2 \n",
    "\n",
    "neighb= neighborhood_size\n",
    "\n",
    "ematrix = np.pad(binary_matrix, neighb, mode='constant', constant_values=0)\n",
    "print(ematrix)"
   ]
  },
  {
   "cell_type": "code",
   "execution_count": 6,
   "id": "d9f4b368",
   "metadata": {},
   "outputs": [
    {
     "name": "stdout",
     "output_type": "stream",
     "text": [
      "Matrix Height: 369\n",
      "Matrix Width: 284\n"
     ]
    }
   ],
   "source": [
    "lig, colon = ematrix.shape\n",
    "\n",
    "\n",
    "print(\"Matrix Height:\", lig)\n",
    "print(\"Matrix Width:\", colon)"
   ]
  },
  {
   "cell_type": "code",
   "execution_count": 13,
   "id": "53a3af29",
   "metadata": {},
   "outputs": [
    {
     "data": {
      "image/png": "[encoded data removed]",
      "text/plain": [
       "<Figure size 640x480 with 1 Axes>"
      ]
     },
     "metadata": {},
     "output_type": "display_data"
    }
   ],
   "source": [
    "c1=0.15\n",
    "c2=0.05\n",
    "\n",
    "c3=0.002\n",
    "c4=0.0001\n",
    "p3=0.5\n",
    "p4=0.01\n",
    "p5=0.0000000 \n",
    "p00=0.0000\n",
    "c5=0.00001\n",
    "pi1=0.4\n",
    "pi2=0.3\n",
    "pi3=0.4\n",
    "pi4=0.4\n",
    "pi5=0.3\n",
    "pi52=0.15\n",
    "pi6=0.1\n",
    "pi7=0.3\n",
    "\n",
    "pi9=0.05\n",
    "pi10=0.1\n",
    "pi11=0.2\n",
    "pi12=0.1\n",
    "pi13=0.15\n",
    "pe=0.00001\n",
    "pi_low=0.00000\n",
    "rows = 369\n",
    "cols = 284\n",
    "\n",
    "\n",
    "\n",
    "grid = np.pad(binary_matrix, neighb, mode='constant', constant_values=0)\n",
    "\n",
    "\n",
    "grid_states = [grid.copy()]\n",
    "\n",
    "def update_grid(grid):\n",
    "    new_grid = grid.copy()\n",
    "    for i in range(rows):\n",
    "        for j in range(cols):\n",
    "            if grid[i, j] == 1:\n",
    "                \n",
    "                neighbors = [\n",
    "                    new_grid[i-2, j-2], new_grid[i-2, j-1], new_grid[i-2, j], new_grid[i-2, j+1], new_grid[i-2, j+2],\n",
    "                    new_grid[i-1, j-2], new_grid[i-1, j-1], new_grid[i-1, j], new_grid[i-1, j+1], new_grid[i-1, j+2],\n",
    "                    new_grid[i, j-2], new_grid[i, j-1], new_grid[i, j+1], new_grid[i, j+2],\n",
    "                    new_grid[i+1, j-2], new_grid[i+1, j-1], new_grid[i+1, j], new_grid[i+1, j+1], new_grid[i+1, j+2],\n",
    "                    new_grid[i+2, j-2], new_grid[i+2, j-1], new_grid[i+2, j], new_grid[i+2, j+1], new_grid[i+2, j+2]\n",
    "                ]\n",
    "                if neighbors in [\n",
    "                    [0, 1, 1, 1, 1, 1, 0, 1, 1, 1, 1, 1, 1, 1, 1, 1, 1, 1, 1, 1, 1, 1, 1, 1] ,\n",
    "                    [1, 1, 1, 1, 0, 1, 1, 1, 0, 1, 1, 1, 1, 1, 1,1,  1, 1, 1, 1, 1, 1, 1, 1] ,\n",
    "                    [1, 1, 1, 1, 1, 1, 1, 1, 1, 1, 1, 1, 1, 1, 1, 1, 1, 0, 1, 1, 1, 1, 1, 0] ,\n",
    "                    [1, 1, 1, 1, 1, 1, 1, 1, 1, 1, 1, 1, 1, 1, 1, 0, 1, 1, 1, 0, 1, 1, 1, 1]\n",
    "                ]:\n",
    "                    if random.random() < pi1:\n",
    "                        new_grid[i, j] = 0\n",
    "                        \n",
    "   \n",
    "                 \n",
    "                elif neighbors in [\n",
    "                    [1, 1, 1, 1, 1, 1, 1, 1, 1, 1, 1, 1, 1, 1, 1, 1, 1, 1, 1, 1, 1, 1, 1, 1]\n",
    "                    \n",
    "                ]:\n",
    "                    if random.random() < p00:\n",
    "                        new_grid[i, j] = 0 \n",
    "                        \n",
    "               # elif random.random() < pi_low:\n",
    "                       # new_grid[i, j] = 0 \n",
    "                            \n",
    "                 \n",
    "\n",
    "    new_grid[0, :] = 0  \n",
    "    new_grid[-1, :] = 0  \n",
    "    new_grid[:, 0] = 0  \n",
    "    new_grid[:, -1] = 0  \n",
    "\n",
    "    return new_grid\n",
    "                    \n",
    "\n",
    "iterations = 20\n",
    "\n",
    "for _ in range(iterations):\n",
    "    grid = update_grid(grid)\n",
    "    grid_states.append(grid.copy())\n",
    "    \n",
    "for i, state in enumerate(grid_states):\n",
    "    plt.imshow(state, cmap='gray', vmin=0, vmax=1)  \n",
    "    plt.savefig(f'untc_{i}.png', dpi=1200)\n"
   ]
  },
  {
   "cell_type": "code",
   "execution_count": null,
   "id": "6a1f8c6f",
   "metadata": {},
   "outputs": [],
   "source": []
  }
 ],
 "metadata": {
  "kernelspec": {
   "display_name": "Python 3 (ipykernel)",
   "language": "python",
   "name": "python3"
  },
  "language_info": {
   "codemirror_mode": {
    "name": "ipython",
    "version": 3
   },
   "file_extension": ".py",
   "mimetype": "text/x-python",
   "name": "python",
   "nbconvert_exporter": "python",
   "pygments_lexer": "ipython3",
   "version": "3.11.5"
  }
 },
 "nbformat": 4,
 "nbformat_minor": 5
}
