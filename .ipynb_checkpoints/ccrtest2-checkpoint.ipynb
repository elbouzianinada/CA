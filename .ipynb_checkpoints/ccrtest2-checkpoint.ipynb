{
 "cells": [
  {
   "cell_type": "code",
   "execution_count": 10,
   "metadata": {},
   "outputs": [],
   "source": [
    "from PIL import Image\n",
    "import numpy as np\n",
    "import random\n",
    "from matplotlib import pyplot as plt\n",
    "from matplotlib import image as mpimg\n",
    "import matplotlib.pyplot as plt"
   ]
  },
  {
   "cell_type": "code",
   "execution_count": 11,
   "metadata": {},
   "outputs": [],
   "source": [
    "img = Image.open(\"ima1.png\")\n"
   ]
  },
  {
   "cell_type": "code",
   "execution_count": 12,
   "metadata": {},
   "outputs": [
    {
     "name": "stdout",
     "output_type": "stream",
     "text": [
      "[[1 1 1 ... 1 1 1]\n",
      " [1 1 1 ... 1 1 1]\n",
      " [1 1 1 ... 1 1 1]\n",
      " ...\n",
      " [1 1 1 ... 1 1 1]\n",
      " [1 1 1 ... 1 1 1]\n",
      " [1 1 1 ... 1 1 1]]\n"
     ]
    }
   ],
   "source": [
    "img_gray = img.convert(\"L\")\n",
    "\n",
    "img_array = np.array(img_gray)\n",
    "\n",
    "threshold = 60  \n",
    "binary_matrix = (img_array > threshold).astype(np.uint8)\n",
    "print(binary_matrix)\n"
   ]
  },
  {
   "cell_type": "code",
   "execution_count": 13,
   "metadata": {},
   "outputs": [
    {
     "name": "stdout",
     "output_type": "stream",
     "text": [
      "[[0 0 0 ... 0 0 0]\n",
      " [0 1 1 ... 1 1 0]\n",
      " [0 1 1 ... 1 1 0]\n",
      " ...\n",
      " [0 1 1 ... 1 1 0]\n",
      " [0 1 1 ... 1 1 0]\n",
      " [0 0 0 ... 0 0 0]]\n"
     ]
    }
   ],
   "source": [
    "neighborhood_size = 1 \n",
    "\n",
    "neighb= neighborhood_size\n",
    "\n",
    "ematrix = np.pad(binary_matrix, neighb, mode='constant', constant_values=0)\n",
    "print(ematrix)"
   ]
  },
  {
   "cell_type": "code",
   "execution_count": null,
   "metadata": {},
   "outputs": [],
   "source": []
  },
  {
   "cell_type": "code",
   "execution_count": 14,
   "metadata": {},
   "outputs": [
    {
     "name": "stdout",
     "output_type": "stream",
     "text": [
      "Matrix Height: 249\n",
      "Matrix Width: 214\n"
     ]
    }
   ],
   "source": [
    "lig, colon = ematrix.shape\n",
    "\n",
    "\n",
    "print(\"Matrix Height:\", lig)\n",
    "print(\"Matrix Width:\", colon)"
   ]
  },
  {
   "cell_type": "code",
   "execution_count": null,
   "metadata": {},
   "outputs": [],
   "source": []
  },
  {
   "cell_type": "code",
   "execution_count": null,
   "metadata": {},
   "outputs": [],
   "source": []
  },
  {
   "cell_type": "code",
   "execution_count": null,
   "metadata": {},
   "outputs": [],
   "source": []
  },
  {
   "cell_type": "code",
   "execution_count": null,
   "metadata": {},
   "outputs": [],
   "source": [
    "\n"
   ]
  },
  {
   "cell_type": "code",
   "execution_count": null,
   "metadata": {},
   "outputs": [],
   "source": []
  },
  {
   "cell_type": "code",
   "execution_count": null,
   "metadata": {},
   "outputs": [],
   "source": [
    "\n",
    "\n",
    "\n"
   ]
  },
  {
   "cell_type": "code",
   "execution_count": null,
   "metadata": {},
   "outputs": [],
   "source": []
  },
  {
   "cell_type": "code",
   "execution_count": 20,
   "metadata": {},
   "outputs": [
    {
     "data": {
      "image/png": "[encoded data removed]",
      "text/plain": [
       "<Figure size 432x288 with 1 Axes>"
      ]
     },
     "metadata": {
      "needs_background": "light"
     },
     "output_type": "display_data"
    }
   ],
   "source": [
    "p00=0.0000000   \n",
    "\n",
    "c1=0.15\n",
    "c2=0.05\n",
    "\n",
    "c3=0.002\n",
    "c4=0.0001\n",
    "\n",
    " \n",
    "\n",
    "c5=0.00001\n",
    " \n",
    "\n",
    "rows = 242\n",
    "cols = 214\n",
    "\n",
    "grid = np.pad(binary_matrix, neighb, mode='constant', constant_values=0)\n",
    "\n",
    "\n",
    "grid_states = [grid.copy()]\n",
    "\n",
    "\n",
    "def update_grid(grid):\n",
    "    new_grid = grid.copy()\n",
    "    for i in range(rows):\n",
    "        for j in range(cols):\n",
    "            if grid[i, j] == 1:\n",
    "                \n",
    "                neighbors = [\n",
    "                    grid[i-1, j-1], grid[i-1, j], grid[i-1, j+1],\n",
    "                    grid[i, j-1], grid[i, j+1], grid[i+1, j-1], grid[i+1, j], grid[i+1, j+1]\n",
    "                ]\n",
    "                conf=[1, 1, 1, 1, 1, 1, 1, 1]\n",
    "                if neighbors in [\n",
    "                    [0, 1, 1, 1, 1, 0, 1, 1], [0, 1, 0, 1, 1, 1, 1, 1],\n",
    "                    [1, 1, 0, 1, 1, 1, 1, 0], [1, 1, 1, 1, 1, 0, 1, 0], [0, 0, 1, 1, 1, 1, 1, 1], [1, 1, 0, 1, 0, 1, 1, 1],\n",
    "                    [1, 1, 1, 0, 1, 0, 1, 1], [1, 0, 0, 1, 1, 1, 1, 1], [0, 1, 1, 0, 1, 1, 1, 1],\n",
    "                    [1, 1, 1, 1, 1, 1, 0, 0], [1, 1, 1, 1, 0, 1, 1, 0], [1, 1, 1, 1, 1, 0, 0, 1]\n",
    "                ]:\n",
    "                    if random.random() < c4:\n",
    "                        new_grid[i, j] = 0\n",
    "                        \n",
    "                \n",
    "                        \n",
    "                elif neighbors in [\n",
    "                    [0, 1, 1, 1, 1, 1, 1, 0], [1, 1, 0, 1, 1, 0, 1, 1], [1, 1, 1, 0, 0, 1, 1, 1], [1, 0, 1, 1, 1, 1, 0, 1], [0, 1, 1, 1, 1, 1, 0, 1], [1, 1, 0, 1, 1, 1, 0, 1],\n",
    "                    [1, 1, 1, 1, 0, 0, 1, 1], [1, 0, 1, 1, 1, 1, 1, 0],\n",
    "                    [1, 1, 0, 0, 1, 1, 1, 1], [1, 1, 1, 0, 1, 1, 1, 0],\n",
    "                    [0, 1, 1, 1, 0, 1, 1, 1], [1, 0, 1, 1, 1, 0, 1, 1]\n",
    "                ]:\n",
    "                    if random.random() < c3:\n",
    "                        new_grid[i, j] = 0\n",
    "                        \n",
    "                        \n",
    "                               \n",
    "                        \n",
    "                elif neighbors in [\n",
    "                    [0, 1, 1, 1, 1, 1, 1, 1],[1, 1, 0, 1, 1, 1, 1, 1],\n",
    "                    [1, 1, 1, 1, 1, 1, 1, 0], [1, 1, 1, 1, 1, 0, 1, 1]\n",
    "                ]:\n",
    "                    if random.random() < c1:\n",
    "                        new_grid[i, j] = 0                 \n",
    "                        \n",
    "                elif neighbors in [\n",
    "                    [1, 0, 1, 1, 1, 1, 1, 1],[1, 1, 1, 0, 1, 1, 1, 1],\n",
    "                    [1, 1, 1, 1, 0, 1, 1, 1], [1, 1, 1, 1, 1, 1, 0, 1]\n",
    "                ]:\n",
    "                    if random.random() < c2:\n",
    "                        new_grid[i, j] = 0 \n",
    "    \n",
    "                elif neighbors in [\n",
    "                    conf\n",
    "                ]:\n",
    "                    if random.random() < p00:\n",
    "                        new_grid[i, j] = 0\n",
    "                        \n",
    "                else:\n",
    "                    if random.random() < c5:\n",
    "                        new_grid[i, j] = 0\n",
    "            \n",
    "    \n",
    "    new_grid[0, :] = 0  \n",
    "    new_grid[-1, :] = 0  \n",
    "    new_grid[:, 0] = 0  \n",
    "    new_grid[:, -1] = 0  \n",
    "\n",
    "    return new_grid\n",
    "                    \n",
    "\n",
    "iterations = 5\n",
    "for _ in range(iterations):\n",
    "    grid = update_grid(grid)\n",
    "    grid_states.append(grid.copy())\n",
    "\n",
    "\n",
    "for i, state in enumerate(grid_states):\n",
    "    plt.imshow(state, cmap='gray', vmin=0, vmax=1)  \n",
    "    plt.savefig(f'grid_state_{i}.png', dpi=1200)\n"
   ]
  },
  {
   "cell_type": "code",
   "execution_count": null,
   "metadata": {},
   "outputs": [],
   "source": [
    "def update_grid(grid):\n",
    "    new_grid = grid.copy()\n",
    "    for i in range(rows):\n",
    "        for j in range(cols):\n",
    "            if grid[i, j] == 1:\n",
    "                \n",
    "                neighbors = [\n",
    "                    grid[i-1, j-1], grid[i-1, j], grid[i-1, j+1],\n",
    "                    grid[i, j-1], grid[i, j+1], grid[i+1, j-1], grid[i+1, j], grid[i+1, j+1]\n",
    "                ]\n",
    "                \n",
    "                if neighbors in [\n",
    "                    [1, 1, 1, 1, 1, 1, 0, 0], [1, 1, 1, 1, 0, 1, 1, 0], [1, 1, 1, 1, 1, 0, 0, 1]\n",
    "                ]:\n",
    "                    if random.random() < c4:\n",
    "                        new_grid[i, j] = 0\n",
    "                        \n",
    "                \n",
    "                        \n",
    "                elif neighbors in [\n",
    "                    [0, 1, 1, 1, 1, 1, 1, 0], [1, 1, 0, 1, 1, 0, 1, 1], [1, 1, 1, 0, 0, 1, 1, 1], [1, 0, 1, 1, 1, 1, 0, 1], [0, 1, 1, 1, 1, 1, 0, 1], [1, 1, 0, 1, 1, 1, 0, 1],\n",
    "                    [1, 1, 1, 1, 0, 0, 1, 1], [1, 0, 1, 1, 1, 1, 1, 0],\n",
    "                    [1, 1, 0, 0, 1, 1, 1, 1], [1, 1, 1, 0, 1, 1, 1, 0],\n",
    "                    [0, 1, 1, 1, 0, 1, 1, 1], [1, 0, 1, 1, 1, 0, 1, 1]\n",
    "                ]:\n",
    "                    if random.random() < c3:\n",
    "                        new_grid[i, j] = 0\n",
    "                        \n",
    "                \n",
    "                        \n",
    "                elif neighbors in [\n",
    "                    [0, 0, 0, 0, 0, 0, 0, 0]\n",
    "                ]:\n",
    "                    if random.random() < p8:\n",
    "                        new_grid[i, j] = 0            \n",
    "                               \n",
    "                        \n",
    "                elif neighbors in [\n",
    "                    [0, 1, 1, 1, 1, 1, 1, 1],[1, 1, 0, 1, 1, 1, 1, 1],\n",
    "                    [1, 1, 1, 1, 1, 1, 1, 0], [1, 1, 1, 1, 1, 0, 1, 1]\n",
    "                ]:\n",
    "                    if random.random() < c1:\n",
    "                        new_grid[i, j] = 0                 \n",
    "                        \n",
    "                elif neighbors in [\n",
    "                    [1, 0, 1, 1, 1, 1, 1, 1],[1, 1, 1, 0, 1, 1, 1, 1],\n",
    "                    [1, 1, 1, 1, 0, 1, 1, 1], [1, 1, 1, 1, 1, 1, 0, 1]\n",
    "                ]:\n",
    "                    if random.random() < c2:\n",
    "                        new_grid[i, j] = 0 \n",
    "    \n",
    "                elif neighbors in [\n",
    "                    [1, 1, 1, 1, 1, 1, 1, 1]\n",
    "                ]:\n",
    "                    if random.random() < p00:\n",
    "                        new_grid[i, j] = 0\n",
    "    \n",
    "    new_grid[0, :] = 0  \n",
    "    new_grid[-1, :] = 0  \n",
    "    new_grid[:, 0] = 0  \n",
    "    new_grid[:, -1] = 0  \n",
    "\n",
    "    return new_grid\n",
    "                    "
   ]
  },
  {
   "cell_type": "code",
   "execution_count": null,
   "metadata": {},
   "outputs": [],
   "source": [
    "\n",
    "p21 = 0.3\n",
    "p22 = 0.5\n",
    "p23 = 0.5\n",
    "p24 = 0.5\n",
    "p25 = 0.5\n",
    "\n",
    "p31 = 0.5\n",
    "p32 = 0.5\n",
    "p33 = 0.5\n",
    "p34 = 0.5\n",
    "p35 = 0.5\n",
    "p36 = 0.5\n",
    "p37 = 0.5\n",
    "\n",
    "p41 = 0.3\n",
    "p42 = 0.3\n",
    "p43 = 0.3\n",
    "p44 = 0.3\n",
    "p45 = 0.3\n",
    "p46 = 0.3\n",
    "p47 = 0.3\n",
    "\n",
    "p51 = 0.2\n",
    "p52 = 0.2\n",
    "p53 = 0.2\n",
    "p54 = 0.2\n",
    "p55 = 0.2\n",
    "p56 = 0.2\n",
    "\n",
    "p61 = 0.2\n",
    "p62 = 0.2\n",
    "p63 = 0.2\n",
    "p64 = 0.2\n",
    "p65 = 0.2\n",
    "\n",
    "p71 = 0.2\n",
    "p72 = 0.2\n",
    "\n",
    "p8 = 0.2\n",
    "\n",
    "p11=0.2\n",
    "p12=0.2\n",
    "p00=0.0001"
   ]
  }
 ],
 "metadata": {
  "kernelspec": {
   "display_name": "Python 3 (ipykernel)",
   "language": "python",
   "name": "python3"
  },
  "language_info": {
   "codemirror_mode": {
    "name": "ipython",
    "version": 3
   },
   "file_extension": ".py",
   "mimetype": "text/x-python",
   "name": "python",
   "nbconvert_exporter": "python",
   "pygments_lexer": "ipython3",
   "version": "3.11.5"
  }
 },
 "nbformat": 4,
 "nbformat_minor": 4
}
