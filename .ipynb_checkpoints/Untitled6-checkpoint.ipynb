{
 "cells": [
  {
   "cell_type": "code",
   "execution_count": 9,
   "id": "7adbb74a",
   "metadata": {},
   "outputs": [],
   "source": []
  },
  {
   "cell_type": "code",
   "execution_count": 8,
   "id": "d0cd4c88",
   "metadata": {},
   "outputs": [
    {
     "name": "stdout",
     "output_type": "stream",
     "text": [
      "Requirement already satisfied: opencv-python in c:\\users\\nada\\anaconda3\\lib\\site-packages (4.8.1.78)\n",
      "Requirement already satisfied: numpy>=1.21.2 in c:\\users\\nada\\anaconda3\\lib\\site-packages (from opencv-python) (1.24.3)\n",
      "Note: you may need to restart the kernel to use updated packages.\n"
     ]
    }
   ],
   "source": [
    "pip install opencv-python "
   ]
  },
  {
   "cell_type": "code",
   "execution_count": 13,
   "id": "d803a399",
   "metadata": {},
   "outputs": [],
   "source": [
    "import cv2\n",
    "import numpy as np\n",
    "\n",
    "from PIL import Image\n",
    "img = Image.open('pst.jpg').convert('LA')\n",
    "img.save('greyscalepic1.png')"
   ]
  },
  {
   "cell_type": "code",
   "execution_count": 22,
   "id": "6f358ec9",
   "metadata": {},
   "outputs": [],
   "source": [
    "img11 = cv2.imread(\"greyscalepic1.png\")\n",
    "res = cv2.resize(img11, dsize=(200, 208), interpolation=cv2.INTER_CUBIC)\n",
    "img.save('img11.png')"
   ]
  },
  {
   "cell_type": "code",
   "execution_count": 23,
   "id": "20f871fd",
   "metadata": {},
   "outputs": [],
   "source": [
    "img_ = Image.open(\"img11.png\")"
   ]
  },
  {
   "cell_type": "code",
   "execution_count": 24,
   "id": "cda4ed54",
   "metadata": {},
   "outputs": [
    {
     "name": "stdout",
     "output_type": "stream",
     "text": [
      "[[1 1 1 ... 1 1 1]\n",
      " [1 1 1 ... 1 1 1]\n",
      " [1 1 1 ... 1 1 1]\n",
      " ...\n",
      " [1 1 1 ... 1 1 1]\n",
      " [1 1 1 ... 1 1 1]\n",
      " [1 1 1 ... 1 1 1]]\n"
     ]
    }
   ],
   "source": [
    "\n"
   ]
  },
  {
   "cell_type": "code",
   "execution_count": 25,
   "id": "298d6f7e",
   "metadata": {},
   "outputs": [
    {
     "name": "stdout",
     "output_type": "stream",
     "text": [
      "[[0 0 0 ... 0 0 0]\n",
      " [0 0 0 ... 0 0 0]\n",
      " [0 0 1 ... 1 0 0]\n",
      " ...\n",
      " [0 0 1 ... 1 0 0]\n",
      " [0 0 0 ... 0 0 0]\n",
      " [0 0 0 ... 0 0 0]]\n"
     ]
    }
   ],
   "source": [
    "neighborhood_size = 2 \n",
    "\n",
    "neighb= neighborhood_size\n",
    "\n",
    "ematrix = np.pad(binary_matrix, neighb, mode='constant', constant_values=0)\n",
    "print(ematrix)"
   ]
  },
  {
   "cell_type": "code",
   "execution_count": 26,
   "id": "180d5dee",
   "metadata": {},
   "outputs": [
    {
     "name": "stdout",
     "output_type": "stream",
     "text": [
      "Matrix Height: 1862\n",
      "Matrix Width: 1746\n"
     ]
    }
   ],
   "source": [
    "lig, colon = ematrix.shape\n",
    "\n",
    "\n",
    "print(\"Matrix Height:\", lig)\n",
    "print(\"Matrix Width:\", colon)"
   ]
  },
  {
   "cell_type": "code",
   "execution_count": 27,
   "id": "cb802f9e",
   "metadata": {},
   "outputs": [],
   "source": [
    "img = Image.open('capture_img_solv1.png').convert('LA')\n",
    "img.save('greyscalepic2.png')"
   ]
  },
  {
   "cell_type": "code",
   "execution_count": 28,
   "id": "6aa74bfc",
   "metadata": {},
   "outputs": [],
   "source": [
    "img_ = Image.open(\"greyscalepic2.png\")"
   ]
  },
  {
   "cell_type": "code",
   "execution_count": 46,
   "id": "4356e661",
   "metadata": {},
   "outputs": [
    {
     "name": "stdout",
     "output_type": "stream",
     "text": [
      "[[1 1 1 ... 1 1 1]\n",
      " [1 1 1 ... 1 1 1]\n",
      " [1 1 1 ... 1 1 1]\n",
      " ...\n",
      " [1 1 1 ... 1 1 1]\n",
      " [1 1 1 ... 1 1 1]\n",
      " [1 1 1 ... 1 1 1]]\n"
     ]
    }
   ],
   "source": [
    "img_gray = img_.convert(\"L\")\n",
    "\n",
    "img_array = np.array(img_gray)\n",
    "\n",
    "threshold = 138  \n",
    "binary_matrix = (img_array > threshold).astype(np.uint8)\n",
    "print(binary_matrix)\n"
   ]
  },
  {
   "cell_type": "code",
   "execution_count": 47,
   "id": "acb9e44a",
   "metadata": {},
   "outputs": [
    {
     "name": "stdout",
     "output_type": "stream",
     "text": [
      "[[0 0 0 ... 0 0 0]\n",
      " [0 0 0 ... 0 0 0]\n",
      " [0 0 1 ... 1 0 0]\n",
      " ...\n",
      " [0 0 1 ... 1 0 0]\n",
      " [0 0 0 ... 0 0 0]\n",
      " [0 0 0 ... 0 0 0]]\n"
     ]
    }
   ],
   "source": [
    "neighborhood_size = 2 \n",
    "\n",
    "neighb= neighborhood_size\n",
    "\n",
    "ematrix = np.pad(binary_matrix, neighb, mode='constant', constant_values=0)\n",
    "print(ematrix)"
   ]
  },
  {
   "cell_type": "code",
   "execution_count": 48,
   "id": "850b8ac9",
   "metadata": {},
   "outputs": [
    {
     "name": "stdout",
     "output_type": "stream",
     "text": [
      "Matrix Height: 724\n",
      "Matrix Width: 974\n"
     ]
    }
   ],
   "source": [
    "lig, colon = ematrix.shape\n",
    "\n",
    "\n",
    "print(\"Matrix Height:\", lig)\n",
    "print(\"Matrix Width:\", colon)"
   ]
  },
  {
   "cell_type": "code",
   "execution_count": null,
   "id": "37b6bddb",
   "metadata": {},
   "outputs": [],
   "source": [
    "c1=0.15\n",
    "c2=0.05\n",
    "\n",
    "c3=0.002\n",
    "c4=0.0001\n",
    "p3=0.5\n",
    "p4=0.01\n",
    "p5=0.0000000 \n",
    "p00=0.0000\n",
    "c5=0.00001\n",
    "pi1=0.4\n",
    "pi2=0.3\n",
    "pi3=0.3\n",
    "pi4=0.3\n",
    "pi5=0.3\n",
    "pi6=0.3\n",
    "pi7=0.3\n",
    "\n",
    "pi9=0.1\n",
    "pi10=0.1\n",
    "pi11=0.1\n",
    "pi12=0.1\n",
    "pi13=0.4\n",
    "pe=0.00001\n",
    "pi_low=0.00000\n",
    "rows = 724\n",
    "cols = 974\n",
    "\n",
    "\n",
    "\n",
    "grid = np.pad(binary_matrix, neighb, mode='constant', constant_values=0)\n",
    "\n",
    "\n",
    "grid_states = [grid.copy()]\n",
    "\n",
    "def update_grid(grid):\n",
    "    new_grid = grid.copy()\n",
    "    for i in range(rows):\n",
    "        for j in range(cols):\n",
    "            if grid[i, j] == 1:\n",
    "                \n",
    "                neighbors = [\n",
    "                    new_grid[i-2, j-2], new_grid[i-2, j-1], new_grid[i-2, j], new_grid[i-2, j+1], new_grid[i-2, j+2],\n",
    "                    new_grid[i-1, j-2], new_grid[i-1, j-1], new_grid[i-1, j], new_grid[i-1, j+1], new_grid[i-1, j+2],\n",
    "                    new_grid[i, j-2], new_grid[i, j-1], new_grid[i, j+1], new_grid[i, j+2],\n",
    "                    new_grid[i+1, j-2], new_grid[i+1, j-1], new_grid[i+1, j], new_grid[i+1, j+1], new_grid[i+1, j+2],\n",
    "                    new_grid[i+2, j-2], new_grid[i+2, j-1], new_grid[i+2, j], new_grid[i+2, j+1], new_grid[i+2, j+2]\n",
    "                ]\n",
    "                if neighbors in [\n",
    "                    [0, 1, 1, 1, 1, 1, 0, 1, 1, 1, 1, 1, 1, 1, 1, 1, 1, 1, 1, 1, 1, 1, 1, 1] ,\n",
    "                    [1, 1, 1, 1, 0, 1, 1, 1, 0, 1, 1, 1, 1, 1, 1,1,  1, 1, 1, 1, 1, 1, 1, 1] ,\n",
    "                    [1, 1, 1, 1, 1, 1, 1, 1, 1, 1, 1, 1, 1, 1, 1, 1, 1, 0, 1, 1, 1, 1, 1, 0] ,\n",
    "                    [1, 1, 1, 1, 1, 1, 1, 1, 1, 1, 1, 1, 1, 1, 1, 0, 1, 1, 1, 0, 1, 1, 1, 1]\n",
    "                ]:\n",
    "                    if random.random() < pi1:\n",
    "                        new_grid[i, j] = 0\n",
    "                        \n",
    "                elif neighbors in [\n",
    "                    [1, 0, 1, 1, 1, 1, 0, 1, 1, 1, 1, 1, 1, 1, 1, 1, 1, 1, 1, 1, 1, 1, 1, 1] ,\n",
    "                    [1, 1, 1, 1, 1, 0, 0, 1, 1, 1, 1, 1, 1, 1, 1, 1, 1, 1, 1, 1, 1, 1, 1, 1] , \n",
    "                    [1, 1, 1, 0, 1, 1, 1, 1, 0, 1, 1, 1, 1, 1, 1, 1, 1, 1, 1, 1, 1, 1, 1, 1] ,\n",
    "                    [1, 1, 1, 1, 1, 1, 1, 1, 0, 0, 1, 1, 1, 1, 1, 1, 1, 1, 1, 1, 1, 1, 1, 1] ,\n",
    "                    [1, 1, 1, 1, 1, 1, 1, 1, 1, 1, 1, 1, 1, 1, 1, 0, 1, 1, 1, 1, 0, 1, 1, 1] ,\n",
    "                    [1, 1, 1, 1, 1, 1, 1, 1, 1, 1, 1, 1, 1, 1, 0, 0, 1, 1, 1, 1, 1, 1, 1, 1] ,\n",
    "                    [1, 1, 1, 1, 1, 1, 1, 1, 1, 1, 1, 1, 1, 1, 1, 1, 1, 0, 1, 1, 1, 1, 0, 1] , \n",
    "                    [1, 1, 1, 1, 1, 1, 1, 1, 1, 1, 1, 1, 1, 1, 1, 1, 1, 0, 0, 1, 1, 1, 1, 1]\n",
    "                    \n",
    "                    \n",
    "                ]:\n",
    "                    if random.random() < pi2:\n",
    "                        new_grid[i, j] = 0  \n",
    "                             \n",
    "                elif neighbors in [\n",
    "                    [1, 1, 0, 1, 1, 1, 1, 0, 1, 1, 1, 1, 1, 1, 1, 1, 1, 1, 1, 1, 1, 1, 1, 1] ,\n",
    "                    [1, 1, 1, 1, 1, 1, 1, 1, 1, 1, 0, 0, 1, 1, 1, 1, 1, 1, 1, 1, 1, 1, 1, 1] ,\n",
    "                    [1, 1, 1, 1, 1, 1, 1, 1, 1, 1, 1, 1, 0, 0, 1, 1, 1, 1, 1, 1, 1, 1, 1, 1] ,\n",
    "                    [1, 1, 1, 1, 1, 1, 1, 1, 1, 1, 1, 1, 1, 1, 1, 1, 0, 1, 1, 1, 1, 0, 1, 1]\n",
    "                ]:\n",
    "                    if random.random() < pi3:\n",
    "                        new_grid[i, j] = 0\n",
    "                \n",
    "                elif neighbors in [\n",
    "                    [1, 0, 1, 1, 1, 1, 1, 0, 1, 1, 1, 1, 1, 1, 1, 1, 1, 1, 1, 1, 1, 1, 1, 1] ,\n",
    "                    [1, 1, 1, 0, 1, 1, 1, 0, 1, 1, 1, 1, 1, 1, 1, 1, 1, 1, 1, 1, 1, 1, 1, 1] , \n",
    "                    [1, 1, 1, 1, 1, 1, 1, 1, 1, 1, 1, 1, 1, 1, 1, 1, 0, 1, 1, 1, 0, 1, 1, 1] ,\n",
    "                    [1, 1, 1, 1, 1, 1, 1, 1, 1, 1, 1, 1, 1, 1, 1, 1, 0, 1, 1, 1, 1, 1, 0, 1] ,\n",
    "                    [1, 1, 1, 1, 1, 1, 1, 1, 1, 1, 1, 0, 1, 1, 0, 1, 1, 1, 1, 1, 1, 1, 1, 1] ,\n",
    "                    [1, 1, 1, 1, 1, 1, 1, 1, 1, 1, 1, 1, 0, 1, 1, 1, 1, 1, 0, 1, 1, 1, 1, 1] ,\n",
    "                    [1, 1, 1, 1, 1, 0, 1, 1, 1, 1, 1, 0, 1, 1, 1, 1, 1, 1, 1, 1, 1, 1, 1, 1] ,\n",
    "                    [1, 1, 1, 1, 1, 1, 1, 1, 1, 0, 1, 1, 0, 1, 1, 1, 1, 1, 1, 1, 1, 1, 1, 1]\n",
    "                    \n",
    "                         \n",
    "                ]:\n",
    "                    if random.random() < pi4:\n",
    "                        new_grid[i, j] = 0\n",
    "                        \n",
    "                elif neighbors in [\n",
    "                    [1, 0, 0, 1, 1, 1, 1, 0, 1, 1, 1, 1, 1, 1, 1, 1, 1, 1, 1, 1, 1, 1, 1, 1] ,\n",
    "                    [1, 1, 0, 0, 1, 1, 1, 0, 1, 1, 1, 1, 1, 1, 1, 1, 1, 1, 1, 1, 1, 1, 1, 1] ,\n",
    "                    [1, 1, 1, 1, 1, 1, 1, 1, 1, 1, 1, 1, 1, 1, 1, 1, 0, 1, 1, 1, 0, 0, 1, 1] ,\n",
    "                    [1, 1, 1, 1, 1, 1, 1, 1, 1, 1, 1, 1, 1, 1, 1, 1, 0, 1, 1, 1, 1, 0, 0, 1]\n",
    "                    \n",
    "                ]:\n",
    "                    if random.random() < pi5:\n",
    "                        new_grid[i, j] = 0   \n",
    "                        \n",
    "                elif neighbors in [\n",
    "                    [1, 0, 0, 0, 1, 1, 1, 0, 1, 1, 1, 1, 1, 1, 1, 1, 1, 1, 1, 1, 1, 1, 1, 1] ,\n",
    "                    [1, 1, 1, 1, 1, 0, 1, 1, 1, 1, 0, 0, 1, 1, 0, 1, 1, 1, 1, 1, 1, 1, 1, 1] ,\n",
    "                    [1, 1, 1, 1, 1, 1, 1, 1, 1, 1, 1, 1, 1, 1, 1, 1, 0, 1, 1, 1, 0, 0, 0, 1] ,\n",
    "                    [1, 1, 1, 1, 1, 1, 1, 1, 1, 0, 1, 1, 0, 0, 1, 1, 1, 1, 0, 1, 1, 1, 1, 1]\n",
    "                ]:\n",
    "                    if random.random() < pi6:\n",
    "                        new_grid[i, j] = 0\n",
    "                        \n",
    "                elif neighbors in [\n",
    "                    [0, 0, 1, 1, 1, 1, 0, 1, 1, 1, 1, 1, 1, 1, 1, 1, 1, 1, 1, 1, 1, 1, 1, 1] ,\n",
    "                    [1, 1, 1, 0, 0, 1, 1, 1, 0, 1, 1, 1, 1, 1, 1, 1, 1, 1, 1, 1, 1, 1, 1, 1] ,\n",
    "                    [1, 1, 1, 1, 1, 1, 1, 1, 1, 1, 1, 1, 1, 1, 1, 0, 1, 1, 1, 0, 0, 1, 1, 1] ,\n",
    "                    [1, 1, 1, 1, 1, 1, 1, 1, 1, 1, 1, 1, 1, 1, 1, 1, 1, 0, 1, 1, 1, 1, 0, 0] ,\n",
    "                    [0, 1, 1, 1, 1, 0, 0, 1, 1, 1, 1, 1, 1, 1, 1, 1, 1, 1, 1, 1, 1, 1, 1, 1] ,\n",
    "                    [1, 1, 1, 1, 1, 1, 1, 1, 1, 1, 1, 1, 1, 1, 0, 0, 1, 1, 1, 0, 1, 1, 1, 1] ,\n",
    "                    [1, 1, 1, 1, 0, 1, 1, 1, 0, 0, 1, 1, 1, 1, 1, 1, 1, 1, 1, 1, 1, 1, 1, 1] ,\n",
    "                    [1, 1, 1, 1, 1, 1, 1, 1, 1, 1, 1, 1, 1, 1, 1, 1, 1, 0, 0, 1, 1, 1, 1, 0]\n",
    "                  \n",
    "                \n",
    "                ]:\n",
    "                    if random.random() < pi7:\n",
    "                        new_grid[i, j] = 0\n",
    "                            \n",
    "                \n",
    "                        \n",
    "                elif neighbors in [\n",
    "                    [1, 0, 1, 1, 1, 0, 0, 1, 1, 1, 1, 1, 1, 1, 1, 1, 1, 1, 1, 1, 1, 1, 1, 1] , \n",
    "                    [1, 1, 1, 0, 1, 1, 1, 1, 0, 0, 1, 1, 1, 1, 1, 1, 1, 1, 1, 1, 1, 1, 1, 1] ,\n",
    "                    [1, 1, 1, 1, 1, 1, 1, 1, 1, 1, 1, 1, 1, 1, 0, 0, 1, 1, 1, 1, 0, 1, 1, 1] ,\n",
    "                    [1, 1, 1, 1, 1, 1, 1, 1, 1, 1, 1, 1, 1, 1, 1, 1, 1, 0, 0, 1, 1, 1, 0, 1]\n",
    "                    \n",
    "                    \n",
    "                ]:\n",
    "                    if random.random() < pi9:\n",
    "                        new_grid[i, j] = 0    \n",
    "                        \n",
    "                elif neighbors in [\n",
    "                    [0, 1, 1, 1, 1, 1, 0, 0, 1, 1, 1, 1, 1, 1, 1, 1, 1, 1, 1, 1, 1, 1, 1, 1] ,\n",
    "                    [1, 1, 1, 1, 0, 1, 1, 0, 0, 1, 1, 1, 1, 1, 1, 1, 1, 1, 1, 1, 1, 1, 1, 1] ,\n",
    "                    [1, 1, 1, 1, 1, 1, 1, 1, 1, 1, 1, 1, 1, 1, 1, 0, 0, 1, 1, 0, 1, 1, 1, 1] ,\n",
    "                    [1, 1, 1, 1, 1, 1, 1, 1, 1, 1, 1, 1, 1, 1, 1, 1, 0, 0, 1, 1, 1, 1, 1, 0] ,\n",
    "                    [0, 1, 1, 1, 1, 1, 0, 1, 1, 1, 1, 0, 1, 1, 1, 1, 1, 1, 1, 1, 1, 1, 1, 1] ,\n",
    "                    [1, 1, 1, 1, 0, 1, 1, 1, 0, 1, 1, 1, 0, 1, 1, 1, 1, 1, 1, 1, 1, 1, 1, 1] ,\n",
    "                    [1, 1, 1, 1, 1, 1, 1, 1, 1, 1, 1, 1, 0, 1, 1, 1, 1, 0, 1, 1, 1, 1, 1, 0] ,\n",
    "                    [1, 1, 1, 1, 1, 1, 1, 1, 1, 1, 1, 0, 1, 1, 1, 0, 1, 1, 1, 0, 1, 1, 1, 1]\n",
    "                                      \n",
    "                ]:\n",
    "                    if random.random() < pi10:\n",
    "                        new_grid[i, j] = 0    \n",
    "            \n",
    "                elif neighbors in [\n",
    "                    [1, 0, 1, 1, 1, 1, 0, 0, 1, 1, 1, 1, 1, 1, 1, 1, 1, 1, 1, 1, 1, 1, 1, 1] ,\n",
    "                    [1, 1, 1, 0, 1, 1, 1, 0, 0, 1, 1, 1, 1, 1, 1, 1, 1, 1, 1, 1, 1, 1, 1, 1] ,\n",
    "                    [1, 1, 1, 1, 1, 1, 1, 1, 1, 1, 1, 1, 1, 1, 1, 0, 0, 1, 1, 1, 0, 1, 1, 1] ,\n",
    "                    [1, 1, 1, 1, 1, 1, 1, 1, 1, 1, 1, 1, 1, 1, 1, 1, 0, 0, 1, 1, 1, 1, 0, 1] ,\n",
    "                    [1, 1, 1, 1, 1, 1, 1, 1, 1, 1, 1, 1, 0, 1, 1, 1, 1, 0, 0, 1, 1, 1, 1, 1] ,\n",
    "                    [1, 1, 1, 1, 1, 1, 1, 1, 1, 1, 1, 0, 1, 1, 0, 0, 1, 1, 1, 1, 1, 1, 1, 1] ,\n",
    "                    \n",
    "                    [1, 1, 1, 1, 1, 0, 0, 1, 1, 1, 1, 0, 1, 1, 1, 1, 1, 1, 1, 1, 1, 1, 1, 1] ,\n",
    "                    [1, 1, 1, 1, 1, 1, 1, 1, 0, 0, 1, 1, 0, 1, 1, 1, 1, 1, 1, 1, 1, 1, 1, 1]\n",
    "                ]:\n",
    "                    if random.random() < pi11:\n",
    "                        new_grid[i, j] = 0  \n",
    "                        \n",
    "                elif neighbors in [\n",
    "                    [1, 1, 1, 1, 1, 0, 0, 0, 1, 1, 1, 1, 1, 1, 1, 1, 1, 1, 1, 1, 1, 1, 1, 1] ,\n",
    "                    [1, 0, 1, 1, 1, 1, 0, 1, 1, 1, 1, 0, 1, 1, 1, 1, 1, 1, 1, 1, 1, 1, 1, 1] ,\n",
    "                    [1, 1, 1, 1, 1, 1, 1, 1, 1, 1, 1, 1, 0, 1, 1, 1, 1, 0, 1, 1, 1, 1, 0, 1] ,\n",
    "                    [1, 1, 1, 1, 1, 1, 1, 0, 0, 0, 1, 1, 1, 1, 1, 1, 1, 1, 1, 1, 1, 1, 1, 1] ,\n",
    "                    [1, 1, 1, 1, 1, 1, 1, 1, 1, 1, 1, 1, 1, 1, 0, 0, 0, 1, 1, 1, 1, 1, 1, 1] ,\n",
    "                    [1, 1, 1, 1, 1, 1, 1, 1, 1, 1, 1, 1, 1, 1, 1, 1, 0, 0, 0, 1, 1, 1, 1, 1] ,\n",
    "                    [1, 1, 1, 0, 1, 1, 1, 1, 0, 1, 1, 1, 0, 1, 1, 1, 1, 1, 1, 1, 1, 1, 1, 1] ,\n",
    "                    [1, 1, 1, 1, 1, 1, 1, 1, 1, 1, 1, 0, 1, 1, 1, 0, 1, 1, 1, 1, 0, 1, 1, 1]\n",
    "                    \n",
    "                ]:\n",
    "                    if random.random() < pi12:\n",
    "                        new_grid[i, j] = 0   \n",
    "                        \n",
    "                elif neighbors in [\n",
    "                    [0, 0, 1, 1, 1, 0, 0, 1, 1, 1, 1, 1, 1, 1, 1, 1, 1, 1, 1, 1, 1, 1, 1, 1] ,\n",
    "                    [1, 1, 1, 0, 0, 1, 1, 1, 0, 0, 1, 1, 1, 1, 1, 1, 1, 1, 1, 1, 1, 1, 1, 1] ,\n",
    "                    [1, 1, 1, 1, 1, 1, 1, 1, 1, 1, 1, 1, 1, 1, 0, 0, 1, 1, 1, 0, 0, 1, 1, 1] ,\n",
    "                    [1, 1, 1, 1, 1, 1, 1, 1, 1, 1, 1, 1, 1, 1, 1, 1, 1, 0, 0, 1, 1, 1, 0, 0]\n",
    "                    \n",
    "                    \n",
    "                ]:\n",
    "                    if random.random() < pi13:\n",
    "                        new_grid[i, j] = 0     \n",
    "                 \n",
    "                elif neighbors in [\n",
    "                    [1, 1, 1, 1, 1, 1, 1, 1, 1, 1, 1, 1, 1, 1, 1, 1, 1, 1, 1, 1, 1, 1, 1, 1]\n",
    "                    \n",
    "                ]:\n",
    "                    if random.random() < p00:\n",
    "                        new_grid[i, j] = 0 \n",
    "                        \n",
    "               # elif random.random() < pi_low:\n",
    "                       # new_grid[i, j] = 0 \n",
    "                            \n",
    "                 \n",
    "\n",
    "    new_grid[0, :] = 0  \n",
    "    new_grid[-1, :] = 0  \n",
    "    new_grid[:, 0] = 0  \n",
    "    new_grid[:, -1] = 0  \n",
    "\n",
    "    return new_grid\n",
    "                    \n",
    "\n",
    "iterations = 30\n",
    "for _ in range(iterations):\n",
    "    grid = update_grid(grid)\n",
    "    grid_states.append(grid.copy())\n",
    "\n",
    "\n",
    "for i, state in enumerate(grid_states):\n",
    "    plt.imshow(state, cmap='gray', vmin=0, vmax=1)  \n",
    "    plt.savefig(f'138_testi{i}.png', dpi=1200)\n"
   ]
  },
  {
   "cell_type": "code",
   "execution_count": null,
   "id": "92317b8a",
   "metadata": {},
   "outputs": [],
   "source": []
  }
 ],
 "metadata": {
  "kernelspec": {
   "display_name": "Python 3 (ipykernel)",
   "language": "python",
   "name": "python3"
  },
  "language_info": {
   "codemirror_mode": {
    "name": "ipython",
    "version": 3
   },
   "file_extension": ".py",
   "mimetype": "text/x-python",
   "name": "python",
   "nbconvert_exporter": "python",
   "pygments_lexer": "ipython3",
   "version": "3.11.5"
  }
 },
 "nbformat": 4,
 "nbformat_minor": 5
}
